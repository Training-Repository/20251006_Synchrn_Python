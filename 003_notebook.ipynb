{
 "cells": [
  {
   "cell_type": "code",
   "execution_count": 2,
   "id": "ff00091f",
   "metadata": {},
   "outputs": [],
   "source": [
    "x = 10"
   ]
  },
  {
   "cell_type": "code",
   "execution_count": 3,
   "id": "9b46e0ac",
   "metadata": {},
   "outputs": [],
   "source": [
    "y = 20"
   ]
  },
  {
   "cell_type": "code",
   "execution_count": 4,
   "id": "facc0726",
   "metadata": {},
   "outputs": [],
   "source": [
    "z = x + y"
   ]
  },
  {
   "cell_type": "code",
   "execution_count": 5,
   "id": "99127960",
   "metadata": {},
   "outputs": [
    {
     "data": {
      "text/plain": [
       "30"
      ]
     },
     "execution_count": 5,
     "metadata": {},
     "output_type": "execute_result"
    }
   ],
   "source": [
    "z"
   ]
  },
  {
   "cell_type": "code",
   "execution_count": 6,
   "id": "5b7d5daf",
   "metadata": {},
   "outputs": [
    {
     "data": {
      "text/plain": [
       "40"
      ]
     },
     "execution_count": 6,
     "metadata": {},
     "output_type": "execute_result"
    }
   ],
   "source": [
    "_ + 10"
   ]
  },
  {
   "cell_type": "code",
   "execution_count": 7,
   "id": "05131605",
   "metadata": {},
   "outputs": [
    {
     "data": {
      "text/plain": [
       "50"
      ]
     },
     "execution_count": 7,
     "metadata": {},
     "output_type": "execute_result"
    }
   ],
   "source": [
    "_ + 10"
   ]
  },
  {
   "cell_type": "code",
   "execution_count": 8,
   "id": "c7a9eca1",
   "metadata": {},
   "outputs": [
    {
     "data": {
      "text/plain": [
       "60"
      ]
     },
     "execution_count": 8,
     "metadata": {},
     "output_type": "execute_result"
    }
   ],
   "source": [
    "_ + 10"
   ]
  },
  {
   "cell_type": "code",
   "execution_count": 9,
   "id": "fb2d6aaf",
   "metadata": {},
   "outputs": [
    {
     "data": {
      "text/plain": [
       "True"
      ]
     },
     "execution_count": 9,
     "metadata": {},
     "output_type": "execute_result"
    }
   ],
   "source": [
    "z == 30"
   ]
  },
  {
   "cell_type": "code",
   "execution_count": 10,
   "id": "5af77f57",
   "metadata": {},
   "outputs": [
    {
     "name": "stdout",
     "output_type": "stream",
     "text": [
      "True\n"
     ]
    }
   ],
   "source": [
    "print(z == 30)"
   ]
  },
  {
   "cell_type": "code",
   "execution_count": 11,
   "id": "be45213c",
   "metadata": {},
   "outputs": [],
   "source": [
    "import math"
   ]
  },
  {
   "cell_type": "code",
   "execution_count": 12,
   "id": "23f5b8ea",
   "metadata": {},
   "outputs": [
    {
     "data": {
      "text/plain": [
       "120"
      ]
     },
     "execution_count": 12,
     "metadata": {},
     "output_type": "execute_result"
    }
   ],
   "source": [
    "math.factorial(5)"
   ]
  },
  {
   "cell_type": "code",
   "execution_count": 4,
   "id": "03ab34f9",
   "metadata": {},
   "outputs": [
    {
     "name": "stdout",
     "output_type": "stream",
     "text": [
      "My Factorial for 5\n"
     ]
    },
    {
     "data": {
      "text/plain": [
       "120"
      ]
     },
     "execution_count": 4,
     "metadata": {},
     "output_type": "execute_result"
    }
   ],
   "source": [
    "def factorial(num):\n",
    "    print(\"My Factorial for\", num)\n",
    "\n",
    "factorial(5)\n",
    "\n",
    "from math import factorial\n",
    "factorial(5)"
   ]
  },
  {
   "cell_type": "code",
   "execution_count": null,
   "id": "675c9416",
   "metadata": {},
   "outputs": [
    {
     "name": "stdout",
     "output_type": "stream",
     "text": [
      "My Factorial for 5\n",
      "My Factorial for 5\n"
     ]
    },
    {
     "data": {
      "text/plain": [
       "120"
      ]
     },
     "execution_count": 1,
     "metadata": {},
     "output_type": "execute_result"
    }
   ],
   "source": [
    "def factorial(num):\n",
    "    print(\"My Factorial for\", num)\n",
    "\n",
    "factorial(5)\n",
    "\n",
    "from math import factorial as fct\n",
    "factorial(5)\n",
    "fct(5)"
   ]
  },
  {
   "cell_type": "code",
   "execution_count": 2,
   "id": "a598f5e9",
   "metadata": {},
   "outputs": [
    {
     "name": "stdout",
     "output_type": "stream",
     "text": [
      "Welcome to Python 3.11's help utility! If this is your first time using\n",
      "Python, you should definitely check out the tutorial at\n",
      "https://docs.python.org/3.11/tutorial/.\n",
      "\n",
      "Enter the name of any module, keyword, or topic to get help on writing\n",
      "Python programs and using Python modules.  To get a list of available\n",
      "modules, keywords, symbols, or topics, enter \"modules\", \"keywords\",\n",
      "\"symbols\", or \"topics\".\n",
      "\n",
      "Each module also comes with a one-line summary of what it does; to list\n",
      "the modules whose name or summary contain a given string such as \"spam\",\n",
      "enter \"modules spam\".\n",
      "\n",
      "To quit this help utility and return to the interpreter,\n",
      "enter \"q\" or \"quit\".\n",
      "\n",
      "\n",
      "You are now leaving help and returning to the Python interpreter.\n",
      "If you want to ask for help on a particular object directly from the\n",
      "interpreter, you can type \"help(object)\".  Executing \"help('string')\"\n",
      "has the same effect as typing a particular string at the help> prompt.\n"
     ]
    }
   ],
   "source": [
    "help()"
   ]
  },
  {
   "cell_type": "code",
   "execution_count": 3,
   "id": "ed07515d",
   "metadata": {},
   "outputs": [
    {
     "name": "stdout",
     "output_type": "stream",
     "text": [
      "1000\n",
      "2000\n",
      "3000\n"
     ]
    }
   ],
   "source": [
    "x = 1000; print(x)\n",
    "y = 2000; print(y)\n",
    "z = 3000; print(z)"
   ]
  },
  {
   "cell_type": "code",
   "execution_count": null,
   "id": "7208e30a",
   "metadata": {},
   "outputs": [],
   "source": [
    "def SomeFunc():\n",
    "  x = 10\n",
    "  y = 20\n",
    "  z = x + y\n",
    "  if z < 50:\n",
    "    print(z)\n",
    "    print(\"Done\")\n",
    "  else:\n",
    "    print(\"Too large to print\")\n",
    "    print(\"Done\")\n",
    "\n",
    "\n",
    "#   if z:             # Implicit\n",
    "  if z != 0:        # Explicit\n",
    "    print(\"Non zero\")\n",
    "  else:\n",
    "    print(\"Zero\")\n"
   ]
  },
  {
   "cell_type": "code",
   "execution_count": 4,
   "id": "d56f1602",
   "metadata": {},
   "outputs": [
    {
     "name": "stdout",
     "output_type": "stream",
     "text": [
      "The Zen of Python, by Tim Peters\n",
      "\n",
      "Beautiful is better than ugly.\n",
      "Explicit is better than implicit.\n",
      "Simple is better than complex.\n",
      "Complex is better than complicated.\n",
      "Flat is better than nested.\n",
      "Sparse is better than dense.\n",
      "Readability counts.\n",
      "Special cases aren't special enough to break the rules.\n",
      "Although practicality beats purity.\n",
      "Errors should never pass silently.\n",
      "Unless explicitly silenced.\n",
      "In the face of ambiguity, refuse the temptation to guess.\n",
      "There should be one-- and preferably only one --obvious way to do it.\n",
      "Although that way may not be obvious at first unless you're Dutch.\n",
      "Now is better than never.\n",
      "Although never is often better than *right* now.\n",
      "If the implementation is hard to explain, it's a bad idea.\n",
      "If the implementation is easy to explain, it may be a good idea.\n",
      "Namespaces are one honking great idea -- let's do more of those!\n"
     ]
    }
   ],
   "source": [
    "import this"
   ]
  },
  {
   "cell_type": "markdown",
   "id": "ec77df7b",
   "metadata": {},
   "source": [
    "#### References\n",
    "* [PEP](https://peps.python.org/)\n",
    "* [PEP - 8](https://peps.python.org/pep-0008/)\n",
    "* [PEP - 20](https://peps.python.org/pep-0020/)\n"
   ]
  },
  {
   "cell_type": "markdown",
   "id": "1b3c14bf",
   "metadata": {},
   "source": [
    "## Scalar types & values\n",
    "* Bool\n",
    "* None\n",
    "* Int\n",
    "* Float\n",
    "    * Decimal\n",
    "    * Fraction\n",
    "* Complex"
   ]
  },
  {
   "cell_type": "code",
   "execution_count": 7,
   "id": "df9fc1ba",
   "metadata": {},
   "outputs": [
    {
     "name": "stdout",
     "output_type": "stream",
     "text": [
      "False\n",
      "True\n",
      "False\n",
      "False\n"
     ]
    }
   ],
   "source": [
    "# Bool\n",
    "z = 30\n",
    "print(z == 10)\n",
    "b1 = True\n",
    "b2 = False\n",
    "b3 = bool()\n",
    "\n",
    "print(b1, b2, b3, sep=\"\\n\")"
   ]
  },
  {
   "cell_type": "code",
   "execution_count": 11,
   "id": "03a530b2",
   "metadata": {},
   "outputs": [
    {
     "name": "stdout",
     "output_type": "stream",
     "text": [
      "False True\n",
      "False False False False False\n",
      "True True True True True True\n"
     ]
    }
   ],
   "source": [
    "print(bool(0), bool(1))\n",
    "print(bool(), bool(0), bool(0.0), bool([]), bool(False))\n",
    "print(bool(7), bool(0.0004), bool([0,0]), bool(\"text\"), bool(\"True\"), bool(\"False\"))"
   ]
  },
  {
   "cell_type": "code",
   "execution_count": null,
   "id": "7d287475",
   "metadata": {},
   "outputs": [
    {
     "name": "stdout",
     "output_type": "stream",
     "text": [
      "True\n",
      "x = 'Test', y = 'Test'\n",
      "True\n",
      "False\n"
     ]
    }
   ],
   "source": [
    "# None\n",
    "a = None\n",
    "# help(None)\n",
    "print(a is None)\n",
    "\n",
    "x = \"Test\"\n",
    "y = \"Te\"\n",
    "y += \"st\"\n",
    "\n",
    "print(f\"{x = }, {y = }\")\n",
    "print(x == y)       # Value Equivalence\n",
    "print(x is y)       # Identity equivalence"
   ]
  },
  {
   "cell_type": "code",
   "execution_count": 19,
   "id": "0810281c",
   "metadata": {},
   "outputs": [
    {
     "name": "stdout",
     "output_type": "stream",
     "text": [
      "1220136825991110068701238785423046926253574342803192842192413588385845373153881997605496447502203281863013616477148203584163378722078177200480785205159329285477907571939330603772960859086270429174547882424912726344305670173270769461062802310452644218878789465754777149863494367781037644274033827365397471386477878495438489595537537990423241061271326984327745715546309977202781014561081188373709531016356324432987029563896628911658974769572087926928871281780070265174507768410719624390394322536422605234945850129918571501248706961568141625359056693423813008856249246891564126775654481886506593847951775360894005745238940335798476363944905313062323749066445048824665075946735862074637925184200459369692981022263971952597190945217823331756934581508552332820762820023402626907898342451712006207714640979456116127629145951237229913340169552363850942885592018727433795173014586357570828355780158735432768888680120399882384702151467605445407663535984174430480128938313896881639487469658817504506926365338175055478128640000000000000000000000000000000000000000000000000000000000000000000000000000000000000000000000000000000000000000000000000000\n"
     ]
    }
   ],
   "source": [
    "# Integers\n",
    "from math import factorial\n",
    "print(factorial(500))"
   ]
  },
  {
   "cell_type": "code",
   "execution_count": 21,
   "id": "f26ee4e3",
   "metadata": {},
   "outputs": [
    {
     "name": "stdout",
     "output_type": "stream",
     "text": [
      "2.5\n",
      "2\n"
     ]
    }
   ],
   "source": [
    "print(5/2)\n",
    "print(5//2)"
   ]
  },
  {
   "cell_type": "code",
   "execution_count": 26,
   "id": "2eb864fc",
   "metadata": {},
   "outputs": [
    {
     "name": "stdout",
     "output_type": "stream",
     "text": [
      "0b1010\n",
      "0o12\n",
      "0xa\n",
      "10\n",
      "81\n"
     ]
    }
   ],
   "source": [
    "print(bin(10))\n",
    "print(oct(10))\n",
    "print(hex(10))\n",
    "print(int(0o12))\n",
    "print(int(\"10000\", 3))"
   ]
  },
  {
   "cell_type": "code",
   "execution_count": 28,
   "id": "ad8cd8da",
   "metadata": {},
   "outputs": [
    {
     "name": "stdout",
     "output_type": "stream",
     "text": [
      "x = 3.125, y = 325.65, y2 = 325.65\n",
      "z = 0.00325, z2 = 0.00325\n"
     ]
    }
   ],
   "source": [
    "# Float\n",
    "# IEE-754 (64 bit)\n",
    "# Mantissa Exponent\n",
    "x = 3.125\n",
    "# 3.125 * 10^0\n",
    "y = 325.65\n",
    "# 3.2565 * 10^2\n",
    "y2 = 3.2565e2\n",
    "\n",
    "print(f\"{x = }, {y = }, {y2 = }\")\n",
    "\n",
    "z = 0.00325\n",
    "z2 = 3.25e-3\n",
    "print(f\"{z = }, {z2 = }\")"
   ]
  },
  {
   "cell_type": "code",
   "execution_count": 29,
   "id": "f53db504",
   "metadata": {},
   "outputs": [
    {
     "name": "stdout",
     "output_type": "stream",
     "text": [
      "sys.float_info(max=1.7976931348623157e+308, max_exp=1024, max_10_exp=308, min=2.2250738585072014e-308, min_exp=-1021, min_10_exp=-307, dig=15, mant_dig=53, epsilon=2.220446049250313e-16, radix=2, rounds=1)\n"
     ]
    }
   ],
   "source": [
    "import sys\n",
    "print(sys.float_info)"
   ]
  },
  {
   "cell_type": "code",
   "execution_count": 31,
   "id": "d13272ca",
   "metadata": {},
   "outputs": [
    {
     "name": "stdout",
     "output_type": "stream",
     "text": [
      "7.0\n",
      "7.0\n",
      "1.618\n",
      "nan\n",
      "inf\n",
      "-inf\n"
     ]
    }
   ],
   "source": [
    "print(float(7))\n",
    "print(float(\"7\"))\n",
    "print(float(\"1.618\"))\n",
    "print(float(\"nan\"))\n",
    "print(float(\"inf\"))\n",
    "print(float(\"-inf\"))"
   ]
  },
  {
   "cell_type": "code",
   "execution_count": 34,
   "id": "6a31a451",
   "metadata": {},
   "outputs": [
    {
     "name": "stdout",
     "output_type": "stream",
     "text": [
      "True\n",
      "True\n"
     ]
    }
   ],
   "source": [
    "print(float(\"inf\") > 127981723498273491287349)\n",
    "print(float(\"-inf\") < -127981723498273491287349)"
   ]
  },
  {
   "cell_type": "code",
   "execution_count": 36,
   "id": "83ce615e",
   "metadata": {},
   "outputs": [
    {
     "name": "stdout",
     "output_type": "stream",
     "text": [
      "False\n",
      "0.10000000000000009\n"
     ]
    }
   ],
   "source": [
    "print((0.8 - 0.7) == 0.1)\n",
    "print((0.8 - 0.7))"
   ]
  },
  {
   "cell_type": "code",
   "execution_count": 38,
   "id": "b6d88fc4",
   "metadata": {},
   "outputs": [
    {
     "name": "stdout",
     "output_type": "stream",
     "text": [
      "False\n",
      "True\n"
     ]
    }
   ],
   "source": [
    "from decimal import Decimal\n",
    "print((Decimal(0.8) - Decimal(0.7)) == Decimal(0.1))\n",
    "\n",
    "print((Decimal(\"0.8\") - Decimal(\"0.7\")) == Decimal(\"0.1\"))\n"
   ]
  },
  {
   "cell_type": "code",
   "execution_count": 43,
   "id": "8399159a",
   "metadata": {},
   "outputs": [
    {
     "name": "stdout",
     "output_type": "stream",
     "text": [
      "Context(prec=4, rounding=ROUND_HALF_EVEN, Emin=-999999, Emax=999999, capitals=1, clamp=0, flags=[Inexact, FloatOperation, Rounded], traps=[InvalidOperation, DivisionByZero, Overflow])\n",
      "3.142857142857142857142857143\n",
      "3.143\n"
     ]
    }
   ],
   "source": [
    "import decimal\n",
    "print(decimal.getcontext())\n",
    "\n",
    "a = Decimal(\"22\")\n",
    "b = Decimal(\"7\")\n",
    "\n",
    "decimal.getcontext().prec = 28\n",
    "print(a/b)\n",
    "\n",
    "decimal.getcontext().prec = 4\n",
    "print(a/b)"
   ]
  },
  {
   "cell_type": "code",
   "execution_count": null,
   "id": "77dd4860",
   "metadata": {},
   "outputs": [],
   "source": [
    "decimal.getcontext().rounding = decimal.ROUND_CEILING"
   ]
  }
 ],
 "metadata": {
  "kernelspec": {
   "display_name": "Python 3",
   "language": "python",
   "name": "python3"
  },
  "language_info": {
   "codemirror_mode": {
    "name": "ipython",
    "version": 3
   },
   "file_extension": ".py",
   "mimetype": "text/x-python",
   "name": "python",
   "nbconvert_exporter": "python",
   "pygments_lexer": "ipython3",
   "version": "3.11.9"
  }
 },
 "nbformat": 4,
 "nbformat_minor": 5
}
